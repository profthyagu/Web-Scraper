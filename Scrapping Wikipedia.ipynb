{
 "cells": [
  {
   "cell_type": "code",
   "execution_count": 3,
   "metadata": {},
   "outputs": [
    {
     "name": "stdout",
     "output_type": "stream",
     "text": [
      "Collecting wikipedia\n",
      "  Using cached https://files.pythonhosted.org/packages/67/35/25e68fbc99e672127cc6fbb14b8ec1ba3dfef035bf1e4c90f78f24a80b7d/wikipedia-1.4.0.tar.gz\n",
      "Requirement already satisfied: beautifulsoup4 in c:\\users\\thyagaraj\\anaconda3\\lib\\site-packages (from wikipedia) (4.7.1)\n",
      "Requirement already satisfied: requests<3.0.0,>=2.0.0 in c:\\users\\thyagaraj\\anaconda3\\lib\\site-packages (from wikipedia) (2.21.0)\n",
      "Requirement already satisfied: soupsieve>=1.2 in c:\\users\\thyagaraj\\anaconda3\\lib\\site-packages (from beautifulsoup4->wikipedia) (1.8)\n",
      "Requirement already satisfied: idna<2.9,>=2.5 in c:\\users\\thyagaraj\\anaconda3\\lib\\site-packages (from requests<3.0.0,>=2.0.0->wikipedia) (2.8)\n",
      "Requirement already satisfied: urllib3<1.25,>=1.21.1 in c:\\users\\thyagaraj\\anaconda3\\lib\\site-packages (from requests<3.0.0,>=2.0.0->wikipedia) (1.24.1)\n",
      "Requirement already satisfied: chardet<3.1.0,>=3.0.2 in c:\\users\\thyagaraj\\anaconda3\\lib\\site-packages (from requests<3.0.0,>=2.0.0->wikipedia) (3.0.4)\n",
      "Requirement already satisfied: certifi>=2017.4.17 in c:\\users\\thyagaraj\\anaconda3\\lib\\site-packages (from requests<3.0.0,>=2.0.0->wikipedia) (2019.6.16)\n",
      "Building wheels for collected packages: wikipedia\n",
      "  Building wheel for wikipedia (setup.py): started\n",
      "  Building wheel for wikipedia (setup.py): finished with status 'done'\n",
      "  Stored in directory: C:\\Users\\thyagaraj\\AppData\\Local\\pip\\Cache\\wheels\\87\\2a\\18\\4e471fd96d12114d16fe4a446d00c3b38fb9efcb744bd31f4a\n",
      "Successfully built wikipedia\n",
      "Installing collected packages: wikipedia\n",
      "Successfully installed wikipedia-1.4.0\n",
      "Note: you may need to restart the kernel to use updated packages.\n"
     ]
    }
   ],
   "source": [
    "pip install wikipedia"
   ]
  },
  {
   "cell_type": "code",
   "execution_count": 19,
   "metadata": {},
   "outputs": [],
   "source": [
    "import wikipedia"
   ]
  },
  {
   "cell_type": "code",
   "execution_count": 20,
   "metadata": {},
   "outputs": [
    {
     "name": "stdout",
     "output_type": "stream",
     "text": [
      "Python is a high-level, general-purpose programming language with a reference implementation that compiles source code into bytecode before being executed on a process virtual machine. Created by Guido van Rossum and first released in 1991, Python's design philosophy emphasizes code readability with its notable use of significant whitespace. Its language constructs and object-oriented approach aim to help programmers write clear, logical code for small and large-scale projects.Python is dynamically typed and garbage-collected. It supports multiple programming paradigms, including structured (particularly, procedural), object-oriented, and functional programming. Python is often described as a \"batteries included\" language due to its comprehensive standard library.Python was conceived in the late 1980s as a successor to the ABC language. Python 2.0, released in 2000, introduced features like list comprehensions and a garbage collection system capable of collecting reference cycles. Python 3.0, released in 2008, was a major revision of the language that is not completely backward-compatible, and much Python 2 code does not run unmodified on Python 3.\n",
      "The Python 2 language was officially discontinued in 2020 (first planned for 2015), and \"Python 2.7.18 is the last Python 2.7 release and therefore the last Python 2 release.\" No more security patches or other improvements will be released for it. With Python 2's end-of-life, only  Python 3.5.x and later are supported.\n",
      "Python interpreters are available for many operating systems. A global community of programmers develops and maintains CPython, an open source reference implementation. A non-profit organization, the Python Software Foundation, manages and directs resources for Python and CPython development.\n",
      "\n",
      "\n"
     ]
    }
   ],
   "source": [
    "# print the summary of what python is\n",
    "print(wikipedia.summary(\"Python Programming Language\"))"
   ]
  },
  {
   "cell_type": "markdown",
   "metadata": {},
   "source": [
    "### This will extract the summary from this wikipedia page. More specifically, it will print some first sentences, we can specify the number of sentences to extract:"
   ]
  },
  {
   "cell_type": "code",
   "execution_count": 21,
   "metadata": {},
   "outputs": [
    {
     "data": {
      "text/plain": [
       "\"Python is a high-level, general-purpose programming language with a reference implementation that compiles source code into bytecode before being executed on a process virtual machine. Created by Guido van Rossum and first released in 1991, Python's design philosophy emphasizes code readability with its notable use of significant whitespace.\""
      ]
     },
     "execution_count": 21,
     "metadata": {},
     "output_type": "execute_result"
    }
   ],
   "source": [
    "wikipedia.summary(\"Python programming languag\", sentences=2)"
   ]
  },
  {
   "cell_type": "code",
   "execution_count": 22,
   "metadata": {},
   "outputs": [
    {
     "name": "stdout",
     "output_type": "stream",
     "text": [
      "['Neural network', 'Artificial neural network', 'Convolutional neural network', 'Recurrent neural network', 'Rectifier (neural networks)', 'Feedforward neural network', 'Dropout (neural networks)', 'Neural circuit', 'Spiking neural network', 'Quantum neural network']\n"
     ]
    }
   ],
   "source": [
    "result = wikipedia.search(\"Neural networks\")\n",
    "print(result)"
   ]
  },
  {
   "cell_type": "code",
   "execution_count": 23,
   "metadata": {},
   "outputs": [
    {
     "name": "stdout",
     "output_type": "stream",
     "text": [
      "<WikipediaPage 'Neural network'>\n"
     ]
    }
   ],
   "source": [
    "# get the page: Neural network\n",
    "page = wikipedia.page(result[0])\n",
    "print(page)"
   ]
  },
  {
   "cell_type": "code",
   "execution_count": 24,
   "metadata": {},
   "outputs": [
    {
     "name": "stdout",
     "output_type": "stream",
     "text": [
      "Neural network\n"
     ]
    }
   ],
   "source": [
    "# get the title of the page\n",
    "title = page.title\n",
    "print(title)"
   ]
  },
  {
   "cell_type": "code",
   "execution_count": 25,
   "metadata": {},
   "outputs": [
    {
     "name": "stdout",
     "output_type": "stream",
     "text": [
      "['All articles with incomplete citations', 'Articles with hAudio microformats', 'Articles with incomplete citations from April 2019', 'Articles with short description', 'Artificial intelligence', 'CS1 errors: dates', 'Computational neuroscience', 'Econometrics', 'Emerging technologies', 'Information, knowledge, and uncertainty', 'Network architecture', 'Networks', 'Neural networks', 'Spoken articles', 'Use mdy dates from January 2019']\n"
     ]
    }
   ],
   "source": [
    "# get the categories of the page\n",
    "categories = page.categories\n",
    "print(categories)"
   ]
  },
  {
   "cell_type": "code",
   "execution_count": 26,
   "metadata": {},
   "outputs": [
    {
     "name": "stdout",
     "output_type": "stream",
     "text": [
      "A neural network is a network or circuit of neurons, or in a modern sense, an artificial neural network, composed of artificial neurons or nodes. Thus a neural network is either a biological neural network, made up of real biological neurons, or an artificial neural network, for solving artificial intelligence (AI) problems. The connections of the biological neuron are modeled as weights. A positive weight reflects an excitatory connection, while negative values mean inhibitory connections. All inputs are modified by a weight and summed. This activity is referred to as a linear combination. Finally, an activation function controls the amplitude of the output. For example, an acceptable range of output is usually between 0 and 1, or it could be −1 and 1.\n",
      "These artificial networks may be used for predictive modeling, adaptive control and applications where they can be trained via a dataset. Self-learning resulting from experience can occur within networks, which can derive conclusions from a complex and seemingly unrelated set of information.\n",
      "\n",
      "\n",
      "== Overview ==\n",
      "A biological neural network is composed of a group or groups of chemically connected or functionally associated neurons. A single neuron may be connected to many other neurons and the total number of neurons and connections in a network may be extensive. Connections, called synapses, are usually formed from axons to dendrites, though dendrodendritic synapses and other connections are possible. Apart from the electrical signaling, there are other forms of signaling that arise from neurotransmitter diffusion.\n",
      "Artificial intelligence, cognitive modeling, and neural networks are information processing paradigms inspired by the way biological neural systems process data. Artificial intelligence and cognitive modeling try to simulate some properties of biological neural networks. In the artificial intelligence field, artificial neural networks have been applied successfully to speech recognition, image analysis and adaptive control, in order to construct software agents (in computer and video games) or autonomous robots.\n",
      "Historically, digital computers evolved from the von Neumann model, and operate via the execution of explicit instructions via access to memory by a number of processors. On the other hand, the origins of neural networks are based on efforts to model information processing in biological systems. Unlike the von Neumann model, neural network computing does not separate memory and processing.\n",
      "Neural network theory has served both to better identify how the neurons in the brain function and to provide the basis for efforts to create artificial intelligence.\n",
      "\n",
      "\n",
      "== History ==\n",
      "The preliminary theoretical base for contemporary neural networks was independently proposed by Alexander Bain (1873) and William James (1890). In their work, both thoughts and body activity resulted from interactions among neurons within the brain.\n",
      "\n",
      "For Bain, every activity led to the firing of a certain set of neurons. When activities were repeated, the connections between those neurons strengthened. According to his theory, this repetition was what led to the formation of memory. The general scientific community at the time was skeptical of Bain's theory because it required what appeared to be an inordinate number of neural connections within the brain. It is now apparent that the brain is exceedingly complex and that the same brain “wiring” can handle multiple problems and inputs.\n",
      "James's theory was similar to Bain's, however, he suggested that memories and actions resulted from electrical currents flowing among the neurons in the brain. His model, by focusing on the flow of electrical currents, did not require individual neural connections for each memory or action.\n",
      "C. S. Sherrington (1898) conducted experiments to test James's theory. He ran electrical currents down the spinal cords of rats. However, instead of demonstrating an increase in electrical current as projected by James, Sherrington found that the electrical current strength decreased as the testing continued over time. Importantly, this work led to the discovery of the concept of habituation. \n",
      "McCulloch and Pitts  (1943) created a computational model for neural networks based on mathematics and algorithms. They called this model threshold logic. The model paved the way for neural network research to split into two distinct approaches. One approach focused on biological processes in the brain and the other focused on the application of neural networks to artificial intelligence.\n",
      "In the late 1940s psychologist Donald Hebb  created a hypothesis of learning based on the mechanism of neural plasticity that is now known as Hebbian learning. Hebbian learning is considered to be a 'typical' unsupervised learning rule and its later variants were early models for long term potentiation. These ideas started being applied to computational models in 1948 with Turing's B-type machines.\n",
      "Farley and Clark (1954) first used computational machines, then called calculators, to simulate a Hebbian network at MIT. Other neural network computational machines were created by Rochester, Holland, Habit, and Duda (1956).\n",
      "Rosenblatt (1958) created the perceptron, an algorithm for pattern recognition based on a two-layer learning computer network using simple addition and subtraction. With mathematical notation, Rosenblatt also described circuitry not in the basic perceptron, such as the exclusive-or circuit, a circuit whose mathematical computation could not be processed until after the backpropagation algorithm was created by Werbos (1975).\n",
      "Neural network research stagnated after the publication of machine learning research by Marvin Minsky and Seymour Papert (1969). They discovered two key issues with the computational machines that processed neural networks. The first issue was that single-layer neural networks were incapable of processing the exclusive-or circuit. The second significant issue was that computers were not sophisticated enough to effectively handle the long run time required by large neural networks. Neural network research slowed until computers achieved greater processing power. Also key in later advances was the backpropagation algorithm which effectively solved the exclusive-or problem (Werbos 1975).The parallel distributed processing of the mid-1980s became popular under the name connectionism. The text by Rumelhart and McClelland (1986) provided a full exposition on the use of connectionism in computers to simulate neural processes.\n",
      "Neural networks, as used in artificial intelligence, have traditionally been viewed as simplified models of neural processing in the brain, even though the relation between this model and brain biological architecture is debated, as it is not clear to what degree artificial neural networks mirror brain function.\n",
      "\n",
      "\n",
      "== Artificial intelligence ==\n",
      "\n",
      "A neural network (NN), in the case of artificial neurons called artificial neural network (ANN) or simulated neural network (SNN), is an interconnected group of natural or artificial neurons that uses a mathematical or computational model for information processing based on a connectionistic approach to computation. In most cases an ANN is an adaptive system that changes its structure based on external or internal information that flows through the network.\n",
      "In more practical terms neural networks are non-linear statistical data modeling or decision making tools. They can be used to model complex relationships between inputs and outputs or to find patterns in data.\n",
      "An artificial neural network involves a network of simple processing elements (artificial neurons) which can exhibit complex global behavior, determined by the connections between the processing elements and element parameters. Artificial neurons were first proposed in 1943 by Warren McCulloch, a neurophysiologist, and Walter Pitts, a logician, who first collaborated at the University of Chicago.One classical type of artificial neural network is the recurrent Hopfield network.\n",
      "The concept of a neural network appears to have first been proposed by Alan Turing in his 1948 paper Intelligent Machinery in which called them \"B-type unorganised machines\".The utility of artificial neural network models lies in the fact that they can be used to infer a function from observations and also to use it. Unsupervised neural networks can also be used to learn representations of the input that capture the salient characteristics of the input distribution, e.g., see the Boltzmann machine (1983), and more recently, deep learning algorithms, which can implicitly learn the distribution function of the observed data. Learning in neural networks is particularly useful in applications where the complexity of the data or task makes the design of such functions by hand impractical.\n",
      "\n",
      "\n",
      "== Applications ==\n",
      "Neural networks can be used in different fields. The tasks to which artificial neural networks are applied tend to fall within the following broad categories:\n",
      "\n",
      "Function approximation, or regression analysis, including time series prediction and modeling.\n",
      "Classification, including pattern and sequence recognition, novelty detection and sequential decision making.\n",
      "Data processing, including filtering, clustering, blind signal separation and compression.Application areas of ANNs include nonlinear system identification and control (vehicle control, process control), game-playing and decision making (backgammon, chess, racing), pattern recognition (radar systems, face identification, object recognition), sequence recognition (gesture, speech, handwritten text recognition), medical diagnosis, financial applications, data mining (or knowledge discovery in databases, \"KDD\"), visualization and e-mail spam filtering. For example, it is possible to create a semantic profile of user's interests emerging from pictures trained for object recognition.\n",
      "\n",
      "\n",
      "== Neuroscience ==\n",
      "Theoretical and computational neuroscience is the field concerned with the theoretical analysis and computational modeling of biological neural systems.\n",
      "Since neural systems are intimately related to cognitive processes and behaviour, the field is closely related to cognitive and behavioural modeling.\n",
      "The aim of the field is to create models of biological neural systems in order to understand how biological systems work. To gain this understanding, neuroscientists strive to make a link between observed biological processes (data), biologically plausible mechanisms for neural processing and learning (biological neural network models) and theory (statistical learning theory and information theory).\n",
      "\n",
      "\n",
      "=== Types of models ===\n",
      "Many models are used; defined at different levels of abstraction, and modeling different aspects of neural systems. They range from models of the short-term behaviour of individual neurons, through models of the dynamics of neural circuitry arising from interactions between individual neurons, to models of behaviour arising from abstract neural modules that represent complete subsystems. These include models of the long-term and short-term plasticity of neural systems and its relation to learning and memory, from the individual neuron to the system level.\n",
      "\n",
      "\n",
      "== Criticism ==\n",
      "A common criticism of neural networks, particularly in robotics, is that they require a large diversity of training for real-world operation. This is not surprising, since any learning machine needs sufficient representative examples in order to capture the underlying structure that allows it to generalize to new cases. Dean Pomerleau, in his research presented in the paper \"Knowledge-based Training of Artificial Neural Networks for Autonomous Robot Driving,\" uses a neural network to train a robotic vehicle to drive on multiple types of roads (single lane, multi-lane, dirt, etc.). A large amount of his research is devoted to (1) extrapolating multiple training scenarios from a single training experience, and (2) preserving past training diversity so that the system does not become overtrained (if, for example, it is presented with a series of right turns—it should not learn to always turn right). These issues are common in neural networks that must decide from amongst a wide variety of responses, but can be dealt with in several ways, for example by randomly shuffling the training examples, by using a numerical optimization algorithm that does not take too large steps when changing the network connections following an example, or by grouping examples in so-called mini-batches.\n",
      "A. K. Dewdney, a former Scientific American columnist, wrote in 1997, \"Although neural nets do solve a few toy problems, their powers of computation are so limited that I am surprised anyone takes them seriously as a general problem-solving tool\" (Dewdney, p. 82).\n",
      "Arguments for Dewdney's position are that to implement large and effective software neural networks, much processing and storage resources need to be committed. While the brain has hardware tailored to the task of processing signals through a graph of neurons, simulating even a most simplified form on Von Neumann technology may compel a neural network designer to fill many millions of database rows for its connections—which can consume vast amounts of computer memory and hard disk space. Furthermore, the designer of neural network systems will often need to simulate the transmission of signals through many of these connections and their associated neurons—which must often be matched with incredible amounts of CPU processing power and time. While neural networks often yield effective programs, they too often do so at the cost of efficiency (they tend to consume considerable amounts of time and money).\n",
      "Arguments against Dewdney's position are that neural nets have been successfully used to solve many complex and diverse tasks, such as autonomously flying aircraft.Technology writer Roger Bridgman commented on Dewdney's statements about neural nets: \n",
      "\n",
      "Neural networks, for instance, are in the dock not only because they have been hyped to high heaven, (what hasn't?) but also because you could create a successful net without understanding how it worked: the bunch of numbers that captures its behaviour would in all probability be \"an opaque, unreadable table...valueless as a scientific resource\".\n",
      "In spite of his emphatic declaration that science is not technology, Dewdney seems here to pillory neural nets as bad science when most of those devising them are just trying to be good engineers. An unreadable table that a useful machine could read would still be well worth having.\n",
      "\n",
      "Although it is true that analyzing what has been learned by an artificial neural network is difficult, it is much easier to do so than to analyze what has been learned by a biological neural network. Moreover, recent emphasis on the explainability of AI has contributed towards the development of methods, notably those based on attention mechanisms, for visualizing and explaining learned neural networks. Furthermore, researchers involved in exploring learning algorithms for neural networks are gradually uncovering generic principles which allow a learning machine to be successful. For example, Bengio and LeCun (2007) wrote an article regarding local vs non-local learning, as well as shallow vs deep architecture.Some other criticisms came from believers of hybrid models (combining neural networks and symbolic approaches). They advocate the intermix of these two approaches and believe that hybrid models can better capture the mechanisms of the human mind (Sun and Bookman, 1990).\n",
      "\n",
      "\n",
      "== Recent improvements ==\n",
      "While initially research had been concerned mostly with the electrical characteristics of neurons, a particularly important part of the investigation in recent years has been the exploration of the role of neuromodulators such as dopamine, acetylcholine, and serotonin on behaviour and learning.\n",
      "Biophysical models, such as BCM theory, have been important in understanding mechanisms for synaptic plasticity, and have had applications in both computer science and neuroscience. Research is ongoing in understanding the computational algorithms used in the brain, with some recent biological evidence for radial basis networks and neural backpropagation as mechanisms for processing data.\n",
      "Computational devices have been created in CMOS for both biophysical simulation and neuromorphic computing. More recent efforts show promise for creating nanodevices for very large scale principal components analyses and convolution. If successful, these efforts could usher in a new era of neural computing that is a step beyond digital computing, because it depends on learning rather than programming and because it is fundamentally analog rather than digital even though the first instantiations may in fact be with CMOS digital devices.\n",
      "Between 2009 and 2012, the recurrent neural networks and deep feedforward neural networks developed in the research group of Jürgen Schmidhuber at the Swiss AI Lab IDSIA have won eight international competitions in pattern recognition and machine learning. For example, multi-dimensional long short term memory (LSTM) won three competitions in connected handwriting recognition at the 2009 International Conference on Document Analysis and Recognition (ICDAR), without any prior knowledge about the three different languages to be learned.\n",
      "Variants of the back-propagation algorithm as well as unsupervised methods by Geoff Hinton and colleagues at the University of Toronto can be used to train deep, highly nonlinear neural architectures, similar to the 1980 Neocognitron by Kunihiko Fukushima, and the \"standard architecture of vision\", inspired by the simple and complex cells identified by David H. Hubel and Torsten Wiesel in the primary visual cortex.\n",
      "Radial basis function and wavelet networks have also been introduced. These can be shown to offer best approximation properties and have been applied in nonlinear system identification and classification applications.Deep learning feedforward networks alternate convolutional layers and max-pooling layers, topped by several pure classification layers. Fast GPU-based implementations of this approach have won several pattern recognition contests, including the IJCNN 2011 Traffic Sign Recognition Competition and the  ISBI 2012 Segmentation of Neuronal Structures in Electron Microscopy Stacks challenge. Such neural networks also were the first artificial pattern recognizers to achieve human-competitive or even superhuman performance on benchmarks such as traffic sign recognition (IJCNN 2012), or the MNIST handwritten digits problem of Yann LeCun and colleagues at NYU.\n",
      "\n",
      "\n",
      "== See also ==\n",
      "\n",
      "\n",
      "== References ==\n",
      "\n",
      "\n",
      "== External links ==\n",
      "\n",
      "A Brief Introduction to Neural Networks (D. Kriesel) - Illustrated, bilingual manuscript about artificial neural networks; Topics so far: Perceptrons, Backpropagation, Radial Basis Functions, Recurrent Neural Networks, Self Organizing Maps, Hopfield Networks.\n",
      "Review of Neural Networks in Materials Science\n",
      "Artificial Neural Networks Tutorial in three languages (Univ. Politécnica de Madrid)\n",
      "Another introduction to ANN\n",
      "Next Generation of Neural Networks - Google Tech Talks\n",
      "Performance of Neural Networks\n",
      "Neural Networks and Information\n",
      "Sanderson, Grant (October 5, 2017). \"But what is a Neural Network?\". 3Blue1Brown – via YouTube.\n"
     ]
    }
   ],
   "source": [
    "# get the whole wikipedia page text (content)\n",
    "content = page.content\n",
    "print(content)"
   ]
  },
  {
   "cell_type": "code",
   "execution_count": 27,
   "metadata": {},
   "outputs": [
    {
     "name": "stdout",
     "output_type": "stream",
     "text": [
      "['3Blue1Brown', 'A. K. Dewdney', 'ADALINE', 'Acetylcholine', 'Adaptive control', 'Adaptive resonance theory', 'Adaptive system', 'Alan Turing', 'Alexander Bain', 'Amplitude', 'Analog signal', 'Artificial intelligence', 'Artificial neural network', 'Artificial neuron', 'Autonomous robot', 'Axon', 'BCM theory', 'Back-propagation', 'Backpropagation', 'Bibcode (identifier)', 'Biological cybernetics', 'Biological neural network', 'Biological neuron models', 'Biologically inspired computing', 'Biophysics', 'Blind signal separation', 'Boltzmann machine', 'CPU', 'Cerebellar model articulation controller', 'Charles Scott Sherrington', 'CiteSeerX (identifier)', 'Cognitive architecture', 'Cognitive modeling', 'Cognitive science', 'Computation', 'Computational neuroscience', 'Computer simulation', 'Connectionism', 'Connectomics', 'Convolution', 'Cultured neuronal networks', 'Data compression', 'Data mining', 'Data modeling', 'Data processing', 'Database', 'David H. Hubel', 'Decision making', 'Deep learning', 'Dendrite', 'Dendrodendritic synapse', 'Digital data', 'Digital morphogenesis', 'Doi (identifier)', 'Donald Hebb', 'Dopamine', 'E-mail spam', 'Exclusive-or', 'Exclusive or', 'Facial recognition system', 'Feedforward neural network', 'Frank Rosenblatt', 'Function approximation', 'GPU', 'Gene expression programming', 'Geoff Hinton', 'Geoffrey Hinton', 'Group method of data handling', 'Habituation', 'Handwritten text recognition', 'Hard drive', 'Hebbian learning', 'Hopfield network', 'IDSIA', 'ISBN (identifier)', 'Image analysis', 'In situ adaptive tabulation', 'Information processing', 'Information theory', 'Jürgen Schmidhuber', 'Kunihiko Fukushima', 'Learning', 'Long short term memory', 'Long term potentiation', 'Machine learning', 'Marvin Minsky', 'Mathematical model', 'Memristor', 'Multilinear subspace learning', 'NYU', 'Nanodevice', 'Nature Nanotechnology', 'Nature Neuroscience', 'Neocognitron', 'Neural Computation (journal)', 'Neural backpropagation', 'Neural computing', 'Neural network (disambiguation)', 'Neural network software', 'Neural processing', 'Neuromodulators', 'Neuromorphic computing', 'Neuron', 'Neurotransmitter', 'Non-linear', 'Nonlinear system identification', 'Novelty detection', 'PMC (identifier)', 'PMID (identifier)', 'Parallel constraint satisfaction processes', 'Parallel distributed processing', 'Pattern recognition', 'Perceptron', 'Predictive analytics', 'Predictive modeling', 'Principal component', 'Programming language', 'Pyramidal neuron', 'Radial basis function network', 'Radial basis networks', 'Random-access memory', 'Recurrent neural network', 'Regression analysis', 'Roger Bridgman', 'Scientific American', 'Self-organizing map', 'Serotonin', 'Seymour Papert', 'Simulated reality', 'Software agents', 'Speech recognition', 'Statistical', 'Statistical classification', 'Support vector machine', 'Symbolic artificial intelligence', 'Synapse', 'Synaptic plasticity', 'Tensor product network', 'Threshold logic', 'Time delay neural network', 'Time series prediction', 'Tomaso Poggio', 'Torsten Wiesel', 'University of Chicago', 'University of Toronto', 'Unorganized machine', 'Unsupervised learning', 'Video game', 'Visual cortex', 'Von Neumann model', 'Walter Pitts', 'Warren McCulloch', 'Warren Sturgis McCulloch', 'William James', 'Yann LeCun', 'YouTube']\n"
     ]
    }
   ],
   "source": [
    "# get all the links in the page\n",
    "links = page.links\n",
    "print(links)"
   ]
  },
  {
   "cell_type": "code",
   "execution_count": 28,
   "metadata": {},
   "outputs": [
    {
     "name": "stdout",
     "output_type": "stream",
     "text": [
      "['http://www.iro.umontreal.ca/~lisa/publications2/index.php/publications/show/4', 'http://papers.nips.cc/paper/3449-offline-handwriting-recognition-with-multidimensional-recurrent-neural-networks', 'http://www.dkriesel.com/en/science/neural_networks', 'http://members.fortunecity.com/templarseries/popper.html', 'http://uhaweb.hartford.edu/compsci/neural-networks-definition.html', 'http://citeseerx.ist.psu.edu/viewdoc/summary?doi=10.1.1.139.4502', 'http://citeseerx.ist.psu.edu/viewdoc/summary?doi=10.1.1.588.3775', 'http://citeseerx.ist.psu.edu/viewdoc/summary?doi=10.1.1.76.1541', 'http://www.cs.toronto.edu/~hinton/absps/fastnc.pdf', 'http://www.nasa.gov/centers/dryden/news/NewsReleases/2003/03-49.html', 'http://pubmed.ncbi.nlm.nih.gov/10526343', 'http://pubmed.ncbi.nlm.nih.gov/13602029', 'http://pubmed.ncbi.nlm.nih.gov/16764513', 'http://pubmed.ncbi.nlm.nih.gov/18451858', 'http://pubmed.ncbi.nlm.nih.gov/18654568', 'http://pubmed.ncbi.nlm.nih.gov/19299860', 'http://pubmed.ncbi.nlm.nih.gov/6953413', 'http://pubmed.ncbi.nlm.nih.gov/7370364', 'http://www.ncbi.nlm.nih.gov/pmc/articles/PMC346238', 'http://www.kurzweilai.net/how-bio-inspired-deep-learning-keeps-winning-competitions', 'http://doi.org/10.1007%2FBF00344251', 'http://doi.org/10.1007%2FBF02478259', 'http://doi.org/10.1037%2Fh0042519', 'http://doi.org/10.1038%2F14819', 'http://doi.org/10.1038%2Fnature06932', 'http://doi.org/10.1038%2Fnnano.2008.160', 'http://doi.org/10.1073%2Fpnas.79.8.2554', 'http://doi.org/10.1098%2Frstb.1898.0002', 'http://doi.org/10.1109%2FTIT.1954.1057468', 'http://doi.org/10.1109%2FTIT.1956.1056810', 'http://doi.org/10.1109%2FTPAMI.2008.137', 'http://doi.org/10.1162%2Fneco.2006.18.7.1527', 'http://doi.org/10.1371%2Fimage.pcbi.v06.i08', 'http://doi.org/10.3233%2F978-1-61499-894-5-179', 'http://www.msm.cam.ac.uk/phase-trans/2009/performance.html', 'http://www.msm.cam.ac.uk/phase-trans/2009/review_Bhadeshia_SADM.pdf', 'http://www.msm.cam.ac.uk/phase-trans/abstracts/neural.review.html', 'https://papers.nips.cc/paper/4741-deep-neural-networks-segment-neuronal-membranes-in-electron-microscopy-images.pdf', 'https://people.lu.usi.ch/mascij/data/papers/2012_nn_traffic.pdf', 'https://www.gartner.com/it-glossary/neural-net-or-neural-network', 'https://www.youtube.com/watch?v=AyzOUbkUf3M', 'https://www.youtube.com/watch?v=aircAruvnKk&list=PLZHQObOWTQDNU6R1_67000Dx_ZCJB-3pi', 'https://ui.adsabs.harvard.edu/abs/1982PNAS...79.2554H', 'https://ui.adsabs.harvard.edu/abs/2008Natur.453...80S', 'https://www.researchgate.net/publication/328964756', 'https://archive.org/details/in.ernet.dli.2015.226341', 'https://archive.org/details/paralleldistribu00rume', 'https://archive.org/details/principlespsych01jamegoog', 'https://web.archive.org/web/20090318133122/http://www.gc.ssr.upm.es/inves/neural/ann1/anntutorial.html', 'https://web.archive.org/web/20091216110504/http://www.doc.ic.ac.uk/~nd/surprise_96/journal/vol4/cs11/report.html', 'https://web.archive.org/web/20120319163352/http://members.fortunecity.com/templarseries/popper.html', 'https://web.archive.org/web/20140529155320/http://uhaweb.hartford.edu/compsci/neural-networks-definition.html', 'https://web.archive.org/web/20180831075249/http://www.kurzweilai.net/how-bio-inspired-deep-learning-keeps-winning-competitions']\n"
     ]
    }
   ],
   "source": [
    "# get the page references\n",
    "references = page.references\n",
    "print(references)"
   ]
  },
  {
   "cell_type": "code",
   "execution_count": 29,
   "metadata": {},
   "outputs": [
    {
     "name": "stdout",
     "output_type": "stream",
     "text": [
      "A neural network is a network or circuit of neurons, or in a modern sense, an artificial neural network, composed of artificial neurons or nodes. Thus a neural network is either a biological neural network, made up of real biological neurons, or an artificial neural network, for solving artificial intelligence (AI) problems. The connections of the biological neuron are modeled as weights. A positive weight reflects an excitatory connection, while negative values mean inhibitory connections. All inputs are modified by a weight and summed. This activity is referred to as a linear combination. Finally, an activation function controls the amplitude of the output. For example, an acceptable range of output is usually between 0 and 1, or it could be −1 and 1.\n",
      "These artificial networks may be used for predictive modeling, adaptive control and applications where they can be trained via a dataset. Self-learning resulting from experience can occur within networks, which can derive conclusions from a complex and seemingly unrelated set of information.\n"
     ]
    }
   ],
   "source": [
    "# summary\n",
    "summary = page.summary\n",
    "print(summary)"
   ]
  },
  {
   "cell_type": "code",
   "execution_count": 30,
   "metadata": {},
   "outputs": [
    {
     "name": "stdout",
     "output_type": "stream",
     "text": [
      "Page content:\n",
      " A neural network is a network or circuit of neurons, or in a modern sense, an artificial neural network, composed of artificial neurons or nodes. Thus a neural network is either a biological neural network, made up of real biological neurons, or an artificial neural network, for solving artificial intelligence (AI) problems. The connections of the biological neuron are modeled as weights. A positive weight reflects an excitatory connection, while negative values mean inhibitory connections. All inputs are modified by a weight and summed. This activity is referred to as a linear combination. Finally, an activation function controls the amplitude of the output. For example, an acceptable range of output is usually between 0 and 1, or it could be −1 and 1.\n",
      "These artificial networks may be used for predictive modeling, adaptive control and applications where they can be trained via a dataset. Self-learning resulting from experience can occur within networks, which can derive conclusions from a complex and seemingly unrelated set of information.\n",
      "\n",
      "\n",
      "== Overview ==\n",
      "A biological neural network is composed of a group or groups of chemically connected or functionally associated neurons. A single neuron may be connected to many other neurons and the total number of neurons and connections in a network may be extensive. Connections, called synapses, are usually formed from axons to dendrites, though dendrodendritic synapses and other connections are possible. Apart from the electrical signaling, there are other forms of signaling that arise from neurotransmitter diffusion.\n",
      "Artificial intelligence, cognitive modeling, and neural networks are information processing paradigms inspired by the way biological neural systems process data. Artificial intelligence and cognitive modeling try to simulate some properties of biological neural networks. In the artificial intelligence field, artificial neural networks have been applied successfully to speech recognition, image analysis and adaptive control, in order to construct software agents (in computer and video games) or autonomous robots.\n",
      "Historically, digital computers evolved from the von Neumann model, and operate via the execution of explicit instructions via access to memory by a number of processors. On the other hand, the origins of neural networks are based on efforts to model information processing in biological systems. Unlike the von Neumann model, neural network computing does not separate memory and processing.\n",
      "Neural network theory has served both to better identify how the neurons in the brain function and to provide the basis for efforts to create artificial intelligence.\n",
      "\n",
      "\n",
      "== History ==\n",
      "The preliminary theoretical base for contemporary neural networks was independently proposed by Alexander Bain (1873) and William James (1890). In their work, both thoughts and body activity resulted from interactions among neurons within the brain.\n",
      "\n",
      "For Bain, every activity led to the firing of a certain set of neurons. When activities were repeated, the connections between those neurons strengthened. According to his theory, this repetition was what led to the formation of memory. The general scientific community at the time was skeptical of Bain's theory because it required what appeared to be an inordinate number of neural connections within the brain. It is now apparent that the brain is exceedingly complex and that the same brain “wiring” can handle multiple problems and inputs.\n",
      "James's theory was similar to Bain's, however, he suggested that memories and actions resulted from electrical currents flowing among the neurons in the brain. His model, by focusing on the flow of electrical currents, did not require individual neural connections for each memory or action.\n",
      "C. S. Sherrington (1898) conducted experiments to test James's theory. He ran electrical currents down the spinal cords of rats. However, instead of demonstrating an increase in electrical current as projected by James, Sherrington found that the electrical current strength decreased as the testing continued over time. Importantly, this work led to the discovery of the concept of habituation. \n",
      "McCulloch and Pitts  (1943) created a computational model for neural networks based on mathematics and algorithms. They called this model threshold logic. The model paved the way for neural network research to split into two distinct approaches. One approach focused on biological processes in the brain and the other focused on the application of neural networks to artificial intelligence.\n",
      "In the late 1940s psychologist Donald Hebb  created a hypothesis of learning based on the mechanism of neural plasticity that is now known as Hebbian learning. Hebbian learning is considered to be a 'typical' unsupervised learning rule and its later variants were early models for long term potentiation. These ideas started being applied to computational models in 1948 with Turing's B-type machines.\n",
      "Farley and Clark (1954) first used computational machines, then called calculators, to simulate a Hebbian network at MIT. Other neural network computational machines were created by Rochester, Holland, Habit, and Duda (1956).\n",
      "Rosenblatt (1958) created the perceptron, an algorithm for pattern recognition based on a two-layer learning computer network using simple addition and subtraction. With mathematical notation, Rosenblatt also described circuitry not in the basic perceptron, such as the exclusive-or circuit, a circuit whose mathematical computation could not be processed until after the backpropagation algorithm was created by Werbos (1975).\n",
      "Neural network research stagnated after the publication of machine learning research by Marvin Minsky and Seymour Papert (1969). They discovered two key issues with the computational machines that processed neural networks. The first issue was that single-layer neural networks were incapable of processing the exclusive-or circuit. The second significant issue was that computers were not sophisticated enough to effectively handle the long run time required by large neural networks. Neural network research slowed until computers achieved greater processing power. Also key in later advances was the backpropagation algorithm which effectively solved the exclusive-or problem (Werbos 1975).The parallel distributed processing of the mid-1980s became popular under the name connectionism. The text by Rumelhart and McClelland (1986) provided a full exposition on the use of connectionism in computers to simulate neural processes.\n",
      "Neural networks, as used in artificial intelligence, have traditionally been viewed as simplified models of neural processing in the brain, even though the relation between this model and brain biological architecture is debated, as it is not clear to what degree artificial neural networks mirror brain function.\n",
      "\n",
      "\n",
      "== Artificial intelligence ==\n",
      "\n",
      "A neural network (NN), in the case of artificial neurons called artificial neural network (ANN) or simulated neural network (SNN), is an interconnected group of natural or artificial neurons that uses a mathematical or computational model for information processing based on a connectionistic approach to computation. In most cases an ANN is an adaptive system that changes its structure based on external or internal information that flows through the network.\n",
      "In more practical terms neural networks are non-linear statistical data modeling or decision making tools. They can be used to model complex relationships between inputs and outputs or to find patterns in data.\n",
      "An artificial neural network involves a network of simple processing elements (artificial neurons) which can exhibit complex global behavior, determined by the connections between the processing elements and element parameters. Artificial neurons were first proposed in 1943 by Warren McCulloch, a neurophysiologist, and Walter Pitts, a logician, who first collaborated at the University of Chicago.One classical type of artificial neural network is the recurrent Hopfield network.\n",
      "The concept of a neural network appears to have first been proposed by Alan Turing in his 1948 paper Intelligent Machinery in which called them \"B-type unorganised machines\".The utility of artificial neural network models lies in the fact that they can be used to infer a function from observations and also to use it. Unsupervised neural networks can also be used to learn representations of the input that capture the salient characteristics of the input distribution, e.g., see the Boltzmann machine (1983), and more recently, deep learning algorithms, which can implicitly learn the distribution function of the observed data. Learning in neural networks is particularly useful in applications where the complexity of the data or task makes the design of such functions by hand impractical.\n",
      "\n",
      "\n",
      "== Applications ==\n",
      "Neural networks can be used in different fields. The tasks to which artificial neural networks are applied tend to fall within the following broad categories:\n",
      "\n",
      "Function approximation, or regression analysis, including time series prediction and modeling.\n",
      "Classification, including pattern and sequence recognition, novelty detection and sequential decision making.\n",
      "Data processing, including filtering, clustering, blind signal separation and compression.Application areas of ANNs include nonlinear system identification and control (vehicle control, process control), game-playing and decision making (backgammon, chess, racing), pattern recognition (radar systems, face identification, object recognition), sequence recognition (gesture, speech, handwritten text recognition), medical diagnosis, financial applications, data mining (or knowledge discovery in databases, \"KDD\"), visualization and e-mail spam filtering. For example, it is possible to create a semantic profile of user's interests emerging from pictures trained for object recognition.\n",
      "\n",
      "\n",
      "== Neuroscience ==\n",
      "Theoretical and computational neuroscience is the field concerned with the theoretical analysis and computational modeling of biological neural systems.\n",
      "Since neural systems are intimately related to cognitive processes and behaviour, the field is closely related to cognitive and behavioural modeling.\n",
      "The aim of the field is to create models of biological neural systems in order to understand how biological systems work. To gain this understanding, neuroscientists strive to make a link between observed biological processes (data), biologically plausible mechanisms for neural processing and learning (biological neural network models) and theory (statistical learning theory and information theory).\n",
      "\n",
      "\n",
      "=== Types of models ===\n",
      "Many models are used; defined at different levels of abstraction, and modeling different aspects of neural systems. They range from models of the short-term behaviour of individual neurons, through models of the dynamics of neural circuitry arising from interactions between individual neurons, to models of behaviour arising from abstract neural modules that represent complete subsystems. These include models of the long-term and short-term plasticity of neural systems and its relation to learning and memory, from the individual neuron to the system level.\n",
      "\n",
      "\n",
      "== Criticism ==\n",
      "A common criticism of neural networks, particularly in robotics, is that they require a large diversity of training for real-world operation. This is not surprising, since any learning machine needs sufficient representative examples in order to capture the underlying structure that allows it to generalize to new cases. Dean Pomerleau, in his research presented in the paper \"Knowledge-based Training of Artificial Neural Networks for Autonomous Robot Driving,\" uses a neural network to train a robotic vehicle to drive on multiple types of roads (single lane, multi-lane, dirt, etc.). A large amount of his research is devoted to (1) extrapolating multiple training scenarios from a single training experience, and (2) preserving past training diversity so that the system does not become overtrained (if, for example, it is presented with a series of right turns—it should not learn to always turn right). These issues are common in neural networks that must decide from amongst a wide variety of responses, but can be dealt with in several ways, for example by randomly shuffling the training examples, by using a numerical optimization algorithm that does not take too large steps when changing the network connections following an example, or by grouping examples in so-called mini-batches.\n",
      "A. K. Dewdney, a former Scientific American columnist, wrote in 1997, \"Although neural nets do solve a few toy problems, their powers of computation are so limited that I am surprised anyone takes them seriously as a general problem-solving tool\" (Dewdney, p. 82).\n",
      "Arguments for Dewdney's position are that to implement large and effective software neural networks, much processing and storage resources need to be committed. While the brain has hardware tailored to the task of processing signals through a graph of neurons, simulating even a most simplified form on Von Neumann technology may compel a neural network designer to fill many millions of database rows for its connections—which can consume vast amounts of computer memory and hard disk space. Furthermore, the designer of neural network systems will often need to simulate the transmission of signals through many of these connections and their associated neurons—which must often be matched with incredible amounts of CPU processing power and time. While neural networks often yield effective programs, they too often do so at the cost of efficiency (they tend to consume considerable amounts of time and money).\n",
      "Arguments against Dewdney's position are that neural nets have been successfully used to solve many complex and diverse tasks, such as autonomously flying aircraft.Technology writer Roger Bridgman commented on Dewdney's statements about neural nets: \n",
      "\n",
      "Neural networks, for instance, are in the dock not only because they have been hyped to high heaven, (what hasn't?) but also because you could create a successful net without understanding how it worked: the bunch of numbers that captures its behaviour would in all probability be \"an opaque, unreadable table...valueless as a scientific resource\".\n",
      "In spite of his emphatic declaration that science is not technology, Dewdney seems here to pillory neural nets as bad science when most of those devising them are just trying to be good engineers. An unreadable table that a useful machine could read would still be well worth having.\n",
      "\n",
      "Although it is true that analyzing what has been learned by an artificial neural network is difficult, it is much easier to do so than to analyze what has been learned by a biological neural network. Moreover, recent emphasis on the explainability of AI has contributed towards the development of methods, notably those based on attention mechanisms, for visualizing and explaining learned neural networks. Furthermore, researchers involved in exploring learning algorithms for neural networks are gradually uncovering generic principles which allow a learning machine to be successful. For example, Bengio and LeCun (2007) wrote an article regarding local vs non-local learning, as well as shallow vs deep architecture.Some other criticisms came from believers of hybrid models (combining neural networks and symbolic approaches). They advocate the intermix of these two approaches and believe that hybrid models can better capture the mechanisms of the human mind (Sun and Bookman, 1990).\n",
      "\n",
      "\n",
      "== Recent improvements ==\n",
      "While initially research had been concerned mostly with the electrical characteristics of neurons, a particularly important part of the investigation in recent years has been the exploration of the role of neuromodulators such as dopamine, acetylcholine, and serotonin on behaviour and learning.\n",
      "Biophysical models, such as BCM theory, have been important in understanding mechanisms for synaptic plasticity, and have had applications in both computer science and neuroscience. Research is ongoing in understanding the computational algorithms used in the brain, with some recent biological evidence for radial basis networks and neural backpropagation as mechanisms for processing data.\n",
      "Computational devices have been created in CMOS for both biophysical simulation and neuromorphic computing. More recent efforts show promise for creating nanodevices for very large scale principal components analyses and convolution. If successful, these efforts could usher in a new era of neural computing that is a step beyond digital computing, because it depends on learning rather than programming and because it is fundamentally analog rather than digital even though the first instantiations may in fact be with CMOS digital devices.\n",
      "Between 2009 and 2012, the recurrent neural networks and deep feedforward neural networks developed in the research group of Jürgen Schmidhuber at the Swiss AI Lab IDSIA have won eight international competitions in pattern recognition and machine learning. For example, multi-dimensional long short term memory (LSTM) won three competitions in connected handwriting recognition at the 2009 International Conference on Document Analysis and Recognition (ICDAR), without any prior knowledge about the three different languages to be learned.\n",
      "Variants of the back-propagation algorithm as well as unsupervised methods by Geoff Hinton and colleagues at the University of Toronto can be used to train deep, highly nonlinear neural architectures, similar to the 1980 Neocognitron by Kunihiko Fukushima, and the \"standard architecture of vision\", inspired by the simple and complex cells identified by David H. Hubel and Torsten Wiesel in the primary visual cortex.\n",
      "Radial basis function and wavelet networks have also been introduced. These can be shown to offer best approximation properties and have been applied in nonlinear system identification and classification applications.Deep learning feedforward networks alternate convolutional layers and max-pooling layers, topped by several pure classification layers. Fast GPU-based implementations of this approach have won several pattern recognition contests, including the IJCNN 2011 Traffic Sign Recognition Competition and the  ISBI 2012 Segmentation of Neuronal Structures in Electron Microscopy Stacks challenge. Such neural networks also were the first artificial pattern recognizers to achieve human-competitive or even superhuman performance on benchmarks such as traffic sign recognition (IJCNN 2012), or the MNIST handwritten digits problem of Yann LeCun and colleagues at NYU.\n",
      "\n",
      "\n",
      "== See also ==\n",
      "\n",
      "\n",
      "== References ==\n",
      "\n",
      "\n",
      "== External links ==\n",
      "\n",
      "A Brief Introduction to Neural Networks (D. Kriesel) - Illustrated, bilingual manuscript about artificial neural networks; Topics so far: Perceptrons, Backpropagation, Radial Basis Functions, Recurrent Neural Networks, Self Organizing Maps, Hopfield Networks.\n",
      "Review of Neural Networks in Materials Science\n",
      "Artificial Neural Networks Tutorial in three languages (Univ. Politécnica de Madrid)\n",
      "Another introduction to ANN\n",
      "Next Generation of Neural Networks - Google Tech Talks\n",
      "Performance of Neural Networks\n",
      "Neural Networks and Information\n",
      "Sanderson, Grant (October 5, 2017). \"But what is a Neural Network?\". 3Blue1Brown – via YouTube. \n",
      "\n",
      "Page title: Neural network \n",
      "\n",
      "Categories: ['All articles with incomplete citations', 'Articles with hAudio microformats', 'Articles with incomplete citations from April 2019', 'Articles with short description', 'Artificial intelligence', 'CS1 errors: dates', 'Computational neuroscience', 'Econometrics', 'Emerging technologies', 'Information, knowledge, and uncertainty', 'Network architecture', 'Networks', 'Neural networks', 'Spoken articles', 'Use mdy dates from January 2019'] \n",
      "\n",
      "Links: ['3Blue1Brown', 'A. K. Dewdney', 'ADALINE', 'Acetylcholine', 'Adaptive control', 'Adaptive resonance theory', 'Adaptive system', 'Alan Turing', 'Alexander Bain', 'Amplitude', 'Analog signal', 'Artificial intelligence', 'Artificial neural network', 'Artificial neuron', 'Autonomous robot', 'Axon', 'BCM theory', 'Back-propagation', 'Backpropagation', 'Bibcode (identifier)', 'Biological cybernetics', 'Biological neural network', 'Biological neuron models', 'Biologically inspired computing', 'Biophysics', 'Blind signal separation', 'Boltzmann machine', 'CPU', 'Cerebellar model articulation controller', 'Charles Scott Sherrington', 'CiteSeerX (identifier)', 'Cognitive architecture', 'Cognitive modeling', 'Cognitive science', 'Computation', 'Computational neuroscience', 'Computer simulation', 'Connectionism', 'Connectomics', 'Convolution', 'Cultured neuronal networks', 'Data compression', 'Data mining', 'Data modeling', 'Data processing', 'Database', 'David H. Hubel', 'Decision making', 'Deep learning', 'Dendrite', 'Dendrodendritic synapse', 'Digital data', 'Digital morphogenesis', 'Doi (identifier)', 'Donald Hebb', 'Dopamine', 'E-mail spam', 'Exclusive-or', 'Exclusive or', 'Facial recognition system', 'Feedforward neural network', 'Frank Rosenblatt', 'Function approximation', 'GPU', 'Gene expression programming', 'Geoff Hinton', 'Geoffrey Hinton', 'Group method of data handling', 'Habituation', 'Handwritten text recognition', 'Hard drive', 'Hebbian learning', 'Hopfield network', 'IDSIA', 'ISBN (identifier)', 'Image analysis', 'In situ adaptive tabulation', 'Information processing', 'Information theory', 'Jürgen Schmidhuber', 'Kunihiko Fukushima', 'Learning', 'Long short term memory', 'Long term potentiation', 'Machine learning', 'Marvin Minsky', 'Mathematical model', 'Memristor', 'Multilinear subspace learning', 'NYU', 'Nanodevice', 'Nature Nanotechnology', 'Nature Neuroscience', 'Neocognitron', 'Neural Computation (journal)', 'Neural backpropagation', 'Neural computing', 'Neural network (disambiguation)', 'Neural network software', 'Neural processing', 'Neuromodulators', 'Neuromorphic computing', 'Neuron', 'Neurotransmitter', 'Non-linear', 'Nonlinear system identification', 'Novelty detection', 'PMC (identifier)', 'PMID (identifier)', 'Parallel constraint satisfaction processes', 'Parallel distributed processing', 'Pattern recognition', 'Perceptron', 'Predictive analytics', 'Predictive modeling', 'Principal component', 'Programming language', 'Pyramidal neuron', 'Radial basis function network', 'Radial basis networks', 'Random-access memory', 'Recurrent neural network', 'Regression analysis', 'Roger Bridgman', 'Scientific American', 'Self-organizing map', 'Serotonin', 'Seymour Papert', 'Simulated reality', 'Software agents', 'Speech recognition', 'Statistical', 'Statistical classification', 'Support vector machine', 'Symbolic artificial intelligence', 'Synapse', 'Synaptic plasticity', 'Tensor product network', 'Threshold logic', 'Time delay neural network', 'Time series prediction', 'Tomaso Poggio', 'Torsten Wiesel', 'University of Chicago', 'University of Toronto', 'Unorganized machine', 'Unsupervised learning', 'Video game', 'Visual cortex', 'Von Neumann model', 'Walter Pitts', 'Warren McCulloch', 'Warren Sturgis McCulloch', 'William James', 'Yann LeCun', 'YouTube'] \n",
      "\n",
      "References: ['http://www.iro.umontreal.ca/~lisa/publications2/index.php/publications/show/4', 'http://papers.nips.cc/paper/3449-offline-handwriting-recognition-with-multidimensional-recurrent-neural-networks', 'http://www.dkriesel.com/en/science/neural_networks', 'http://members.fortunecity.com/templarseries/popper.html', 'http://uhaweb.hartford.edu/compsci/neural-networks-definition.html', 'http://citeseerx.ist.psu.edu/viewdoc/summary?doi=10.1.1.139.4502', 'http://citeseerx.ist.psu.edu/viewdoc/summary?doi=10.1.1.588.3775', 'http://citeseerx.ist.psu.edu/viewdoc/summary?doi=10.1.1.76.1541', 'http://www.cs.toronto.edu/~hinton/absps/fastnc.pdf', 'http://www.nasa.gov/centers/dryden/news/NewsReleases/2003/03-49.html', 'http://pubmed.ncbi.nlm.nih.gov/10526343', 'http://pubmed.ncbi.nlm.nih.gov/13602029', 'http://pubmed.ncbi.nlm.nih.gov/16764513', 'http://pubmed.ncbi.nlm.nih.gov/18451858', 'http://pubmed.ncbi.nlm.nih.gov/18654568', 'http://pubmed.ncbi.nlm.nih.gov/19299860', 'http://pubmed.ncbi.nlm.nih.gov/6953413', 'http://pubmed.ncbi.nlm.nih.gov/7370364', 'http://www.ncbi.nlm.nih.gov/pmc/articles/PMC346238', 'http://www.kurzweilai.net/how-bio-inspired-deep-learning-keeps-winning-competitions', 'http://doi.org/10.1007%2FBF00344251', 'http://doi.org/10.1007%2FBF02478259', 'http://doi.org/10.1037%2Fh0042519', 'http://doi.org/10.1038%2F14819', 'http://doi.org/10.1038%2Fnature06932', 'http://doi.org/10.1038%2Fnnano.2008.160', 'http://doi.org/10.1073%2Fpnas.79.8.2554', 'http://doi.org/10.1098%2Frstb.1898.0002', 'http://doi.org/10.1109%2FTIT.1954.1057468', 'http://doi.org/10.1109%2FTIT.1956.1056810', 'http://doi.org/10.1109%2FTPAMI.2008.137', 'http://doi.org/10.1162%2Fneco.2006.18.7.1527', 'http://doi.org/10.1371%2Fimage.pcbi.v06.i08', 'http://doi.org/10.3233%2F978-1-61499-894-5-179', 'http://www.msm.cam.ac.uk/phase-trans/2009/performance.html', 'http://www.msm.cam.ac.uk/phase-trans/2009/review_Bhadeshia_SADM.pdf', 'http://www.msm.cam.ac.uk/phase-trans/abstracts/neural.review.html', 'https://papers.nips.cc/paper/4741-deep-neural-networks-segment-neuronal-membranes-in-electron-microscopy-images.pdf', 'https://people.lu.usi.ch/mascij/data/papers/2012_nn_traffic.pdf', 'https://www.gartner.com/it-glossary/neural-net-or-neural-network', 'https://www.youtube.com/watch?v=AyzOUbkUf3M', 'https://www.youtube.com/watch?v=aircAruvnKk&list=PLZHQObOWTQDNU6R1_67000Dx_ZCJB-3pi', 'https://ui.adsabs.harvard.edu/abs/1982PNAS...79.2554H', 'https://ui.adsabs.harvard.edu/abs/2008Natur.453...80S', 'https://www.researchgate.net/publication/328964756', 'https://archive.org/details/in.ernet.dli.2015.226341', 'https://archive.org/details/paralleldistribu00rume', 'https://archive.org/details/principlespsych01jamegoog', 'https://web.archive.org/web/20090318133122/http://www.gc.ssr.upm.es/inves/neural/ann1/anntutorial.html', 'https://web.archive.org/web/20091216110504/http://www.doc.ic.ac.uk/~nd/surprise_96/journal/vol4/cs11/report.html', 'https://web.archive.org/web/20120319163352/http://members.fortunecity.com/templarseries/popper.html', 'https://web.archive.org/web/20140529155320/http://uhaweb.hartford.edu/compsci/neural-networks-definition.html', 'https://web.archive.org/web/20180831075249/http://www.kurzweilai.net/how-bio-inspired-deep-learning-keeps-winning-competitions'] \n",
      "\n",
      "Summary: A neural network is a network or circuit of neurons, or in a modern sense, an artificial neural network, composed of artificial neurons or nodes. Thus a neural network is either a biological neural network, made up of real biological neurons, or an artificial neural network, for solving artificial intelligence (AI) problems. The connections of the biological neuron are modeled as weights. A positive weight reflects an excitatory connection, while negative values mean inhibitory connections. All inputs are modified by a weight and summed. This activity is referred to as a linear combination. Finally, an activation function controls the amplitude of the output. For example, an acceptable range of output is usually between 0 and 1, or it could be −1 and 1.\n",
      "These artificial networks may be used for predictive modeling, adaptive control and applications where they can be trained via a dataset. Self-learning resulting from experience can occur within networks, which can derive conclusions from a complex and seemingly unrelated set of information. \n",
      "\n"
     ]
    }
   ],
   "source": [
    "# print info\n",
    "print(\"Page content:\\n\", content, \"\\n\")\n",
    "print(\"Page title:\", title, \"\\n\")\n",
    "print(\"Categories:\", categories, \"\\n\")\n",
    "print(\"Links:\", links, \"\\n\")\n",
    "print(\"References:\", references, \"\\n\")\n",
    "print(\"Summary:\", summary, \"\\n\")"
   ]
  },
  {
   "cell_type": "code",
   "execution_count": 18,
   "metadata": {},
   "outputs": [
    {
     "name": "stdout",
     "output_type": "stream",
     "text": [
      "b'<html>\\n<head>\\n<title>A Useful Page</title>\\n</head>\\n<body>\\n<h1>An Interesting Title</h1>\\n<div>\\nLorem ipsum dolor sit amet, consectetur adipisicing elit, sed do eiusmod tempor incididunt ut labore et dolore magna aliqua. Ut enim ad minim veniam, quis nostrud exercitation ullamco laboris nisi ut aliquip ex ea commodo consequat. Duis aute irure dolor in reprehenderit in voluptate velit esse cillum dolore eu fugiat nulla pariatur. Excepteur sint occaecat cupidatat non proident, sunt in culpa qui officia deserunt mollit anim id est laborum.\\n</div>\\n</body>\\n</html>\\n'\n"
     ]
    }
   ],
   "source": [
    "from urllib.request import urlopen\n",
    "html = urlopen(\"http://pythonscraping.com/pages/page1.html\")\n",
    "print(html.read())"
   ]
  },
  {
   "cell_type": "code",
   "execution_count": null,
   "metadata": {},
   "outputs": [],
   "source": []
  }
 ],
 "metadata": {
  "kernelspec": {
   "display_name": "Python 3",
   "language": "python",
   "name": "python3"
  },
  "language_info": {
   "codemirror_mode": {
    "name": "ipython",
    "version": 3
   },
   "file_extension": ".py",
   "mimetype": "text/x-python",
   "name": "python",
   "nbconvert_exporter": "python",
   "pygments_lexer": "ipython3",
   "version": "3.7.3"
  }
 },
 "nbformat": 4,
 "nbformat_minor": 2
}
